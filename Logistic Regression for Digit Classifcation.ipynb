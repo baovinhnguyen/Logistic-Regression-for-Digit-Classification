{
 "cells": [
  {
   "cell_type": "markdown",
   "metadata": {},
   "source": [
    "# Part One: Logistic Regression for Digit Classification "
   ]
  },
  {
   "cell_type": "code",
   "execution_count": 1,
   "metadata": {},
   "outputs": [],
   "source": [
    "# Import packages\n",
    "import os\n",
    "import numpy as np\n",
    "import pandas as pd\n",
    "\n",
    "import sklearn.linear_model\n",
    "import sklearn.tree\n",
    "import sklearn.metrics\n",
    "\n",
    "from matplotlib import pyplot as plt\n",
    "import seaborn as sns\n"
   ]
  },
  {
   "cell_type": "code",
   "execution_count": 33,
   "metadata": {},
   "outputs": [],
   "source": [
    "# Load data sets\n",
    "x_tr = np.loadtxt('./data_digits_8_vs_9_noisy/x_train.csv', delimiter=',', skiprows=1)\n",
    "x_te = np.loadtxt('./data_digits_8_vs_9_noisy/x_test.csv', delimiter=',', skiprows=1)\n",
    "y_tr = np.loadtxt('./data_digits_8_vs_9_noisy/y_train.csv', delimiter=',', skiprows=1)\n",
    "y_te = np.loadtxt('./data_digits_8_vs_9_noisy/y_test.csv', delimiter=',', skiprows=1)"
   ]
  },
  {
   "cell_type": "code",
   "execution_count": 34,
   "metadata": {},
   "outputs": [],
   "source": [
    "def calc_confusion_matrix_for_threshold(ytrue_N, yproba1_N, thresh):\n",
    "    ''' Compute the confusion matrix for a given probabilistic classifier and threshold\n",
    "    \n",
    "    Args\n",
    "    ----\n",
    "    ytrue_N : 1D array of floats\n",
    "        Each entry represents the binary value (0 or 1) of 'true' label of one example\n",
    "        One entry per example in current dataset\n",
    "    yproba1_N : 1D array of floats\n",
    "        Each entry represents a probability (between 0 and 1) that correct label is positive (1)\n",
    "        One entry per example in current dataset\n",
    "        Needs to be same size as ytrue_N\n",
    "    thresh : float\n",
    "        Scalar threshold for converting probabilities into hard decisions\n",
    "        Calls an example \"positive\" if yproba1 >= thresh\n",
    "\n",
    "    Returns\n",
    "    -------\n",
    "    cm_df : Pandas DataFrame\n",
    "        Can be printed like print(cm_df) to easily display results\n",
    "    '''\n",
    "    cm = sklearn.metrics.confusion_matrix(ytrue_N, yproba1_N >= thresh)\n",
    "    cm_df = pd.DataFrame(data=cm, columns=[0, 1], index=[0, 1])\n",
    "    cm_df.columns.name = 'Predicted'\n",
    "    cm_df.index.name = 'True'\n",
    "    return cm_df\n"
   ]
  },
  {
   "cell_type": "markdown",
   "metadata": {},
   "source": [
    "## 1.1. Logistic regression model fitting "
   ]
  },
  {
   "cell_type": "code",
   "execution_count": 35,
   "metadata": {},
   "outputs": [
    {
     "name": "stderr",
     "output_type": "stream",
     "text": [
      "/Users/baovinhnguyen/anaconda3/lib/python3.7/site-packages/sklearn/svm/base.py:929: ConvergenceWarning: Liblinear failed to converge, increase the number of iterations.\n",
      "  \"the number of iterations.\", ConvergenceWarning)\n",
      "/Users/baovinhnguyen/anaconda3/lib/python3.7/site-packages/sklearn/svm/base.py:929: ConvergenceWarning: Liblinear failed to converge, increase the number of iterations.\n",
      "  \"the number of iterations.\", ConvergenceWarning)\n",
      "/Users/baovinhnguyen/anaconda3/lib/python3.7/site-packages/sklearn/svm/base.py:929: ConvergenceWarning: Liblinear failed to converge, increase the number of iterations.\n",
      "  \"the number of iterations.\", ConvergenceWarning)\n",
      "/Users/baovinhnguyen/anaconda3/lib/python3.7/site-packages/sklearn/svm/base.py:929: ConvergenceWarning: Liblinear failed to converge, increase the number of iterations.\n",
      "  \"the number of iterations.\", ConvergenceWarning)\n",
      "/Users/baovinhnguyen/anaconda3/lib/python3.7/site-packages/sklearn/svm/base.py:929: ConvergenceWarning: Liblinear failed to converge, increase the number of iterations.\n",
      "  \"the number of iterations.\", ConvergenceWarning)\n",
      "/Users/baovinhnguyen/anaconda3/lib/python3.7/site-packages/sklearn/svm/base.py:929: ConvergenceWarning: Liblinear failed to converge, increase the number of iterations.\n",
      "  \"the number of iterations.\", ConvergenceWarning)\n",
      "/Users/baovinhnguyen/anaconda3/lib/python3.7/site-packages/sklearn/svm/base.py:929: ConvergenceWarning: Liblinear failed to converge, increase the number of iterations.\n",
      "  \"the number of iterations.\", ConvergenceWarning)\n",
      "/Users/baovinhnguyen/anaconda3/lib/python3.7/site-packages/sklearn/svm/base.py:929: ConvergenceWarning: Liblinear failed to converge, increase the number of iterations.\n",
      "  \"the number of iterations.\", ConvergenceWarning)\n",
      "/Users/baovinhnguyen/anaconda3/lib/python3.7/site-packages/sklearn/svm/base.py:929: ConvergenceWarning: Liblinear failed to converge, increase the number of iterations.\n",
      "  \"the number of iterations.\", ConvergenceWarning)\n"
     ]
    }
   ],
   "source": [
    "tr_loss_list = list()\n",
    "iterations = list(range(1, 41))\n",
    "log_loss_tr = []\n",
    "score_logistic = []\n",
    "beta0 = []\n",
    "for i in iterations:\n",
    "    lrm = sklearn.linear_model.LogisticRegression(solver = 'liblinear', max_iter = i).fit(x_tr, y_tr) # fit the model\n",
    "    prob_pred_tr = lrm.predict_proba(x_tr) # predections \n",
    "    loss_tr = sklearn.metrics.log_loss(y_tr, prob_pred_tr)\n",
    "    log_loss_tr.append(loss_tr) # log loss\n",
    "    score = lrm.score(x_tr, y_tr)\n",
    "    score_logistic.append(score) # accuracy \n",
    "    beta0.append(lrm.coef_[0, 0])"
   ]
  },
  {
   "cell_type": "code",
   "execution_count": 36,
   "metadata": {},
   "outputs": [
    {
     "data": {
      "image/png": "[encoded data removed]",
      "text/plain": [
       "<Figure size 432x288 with 1 Axes>"
      ]
     },
     "metadata": {
      "needs_background": "light"
     },
     "output_type": "display_data"
    }
   ],
   "source": [
    "# Plot for log loss \n",
    "fig, ax = plt.subplots()\n",
    "ax.plot(iterations, log_loss_tr, label='Training set', color=\"tab:red\", ls='--')\n",
    "plt.xlabel('No. of iterations')\n",
    "plt.ylabel('Log loss')\n",
    "plt.ylim([0.0, 0.25]);\n",
    "\n",
    "ax.legend()\n",
    "plt.show()"
   ]
  },
  {
   "cell_type": "code",
   "execution_count": 37,
   "metadata": {},
   "outputs": [
    {
     "data": {
      "image/png": "[encoded data removed]",
      "text/plain": [
       "<Figure size 432x288 with 1 Axes>"
      ]
     },
     "metadata": {
      "needs_background": "light"
     },
     "output_type": "display_data"
    }
   ],
   "source": [
    "# Plot for accuracy \n",
    "fig, ax = plt.subplots()\n",
    "ax.plot(iterations, score_logistic, label='Training set', color=\"tab:blue\", ls='--')\n",
    "plt.xlabel('No. of iterations')\n",
    "plt.ylabel('Accuracy')\n",
    "plt.ylim([0.96, 1.0]);\n",
    "\n",
    "ax.legend()\n",
    "plt.show()"
   ]
  },
  {
   "cell_type": "markdown",
   "metadata": {},
   "source": [
    "As the number of interations increases, the log loss reduces from 0.224 to 0.032. Similarly, the accuracy increases from 96.86% to 99.09%. This is because the model is using gradient descent to adjust the parameter weights. The more iterations we set, the more adjustments the model will make, which increases accuracy and decreases log loss. As we increase the number of iterations, the precision with which logistic regression tries to fit the data grows. Therefore, the regression algorithm modifies model parameters to account for noise induced fluctuations."
   ]
  },
  {
   "cell_type": "markdown",
   "metadata": {},
   "source": [
    "## 1.2. Access the weights \n"
   ]
  },
  {
   "cell_type": "code",
   "execution_count": 38,
   "metadata": {},
   "outputs": [
    {
     "data": {
      "image/png": "[encoded data removed]",
      "text/plain": [
       "<Figure size 432x288 with 1 Axes>"
      ]
     },
     "metadata": {
      "needs_background": "light"
     },
     "output_type": "display_data"
    }
   ],
   "source": [
    "# Plot for iterations - weights  \n",
    "fig, ax = plt.subplots()\n",
    "ax.plot(iterations, beta0, color=\"tab:blue\")\n",
    "plt.xlabel('No. of iterations')\n",
    "plt.ylabel('Weight on Pixel 000')\n",
    "#plt.ylim([-0.441, -0.440]);\n",
    "#ax.legend()\n",
    "plt.show()"
   ]
  },
  {
   "cell_type": "markdown",
   "metadata": {},
   "source": [
    "The weight of pixel000 goes from - 0.0005 to -0.4406. It decreases significantly until the 8th or 9th iteration, then remains stable until the 40th iteration. This is because few number of iterations will give different values for weights. As the number of iterations increases, the weight values will converge into a constant number. "
   ]
  },
  {
   "cell_type": "markdown",
   "metadata": {},
   "source": [
    "## 1.3. Explore C values "
   ]
  },
  {
   "cell_type": "code",
   "execution_count": 39,
   "metadata": {},
   "outputs": [],
   "source": [
    "log_loss_te = []\n",
    "accuracy = []\n",
    "C_grid = np.logspace(-9, 6, 31)\n",
    "for C in C_grid:\n",
    "# Build and evaluate model for each value C\n",
    "    lrm = sklearn.linear_model.LogisticRegression(C = C, solver = 'liblinear', multi_class = 'ovr').fit(x_tr, y_tr) # fit the model for each C \n",
    "    prob_pred_te = lrm.predict_proba(x_te) # predict the dependent variables \n",
    "    loss_te = sklearn.metrics.log_loss(y_te, prob_pred_te) # find log loss \n",
    "    log_loss_te.append(loss_te) \n",
    "    score2 = lrm.score(x_te, y_te)\n",
    "    accuracy.append(score2)"
   ]
  },
  {
   "cell_type": "code",
   "execution_count": 40,
   "metadata": {},
   "outputs": [],
   "source": [
    "min_loss_te = min(log_loss_te) # find min log loss \n",
    "min_loss_te_ind = log_loss_te.index(min_loss_te) # find index of min log loss  \n",
    "best_C_2 = C_grid[min_loss_te_ind] # find the respective C value \n",
    "best_score = accuracy[min_loss_te_ind]"
   ]
  },
  {
   "cell_type": "code",
   "execution_count": 41,
   "metadata": {},
   "outputs": [
    {
     "name": "stdout",
     "output_type": "stream",
     "text": [
      "0.03162277660168379\n",
      "0.9672213817448311\n"
     ]
    }
   ],
   "source": [
    "print(best_C_2)\n",
    "print(best_score)"
   ]
  },
  {
   "cell_type": "code",
   "execution_count": 42,
   "metadata": {},
   "outputs": [
    {
     "data": {
      "text/html": [
       "<div>\n",
       "<style scoped>\n",
       "    .dataframe tbody tr th:only-of-type {\n",
       "        vertical-align: middle;\n",
       "    }\n",
       "\n",
       "    .dataframe tbody tr th {\n",
       "        vertical-align: top;\n",
       "    }\n",
       "\n",
       "    .dataframe thead th {\n",
       "        text-align: right;\n",
       "    }\n",
       "</style>\n",
       "<table border=\"1\" class=\"dataframe\">\n",
       "  <thead>\n",
       "    <tr style=\"text-align: right;\">\n",
       "      <th>Predicted</th>\n",
       "      <th>0</th>\n",
       "      <th>1</th>\n",
       "    </tr>\n",
       "    <tr>\n",
       "      <th>True</th>\n",
       "      <th></th>\n",
       "      <th></th>\n",
       "    </tr>\n",
       "  </thead>\n",
       "  <tbody>\n",
       "    <tr>\n",
       "      <th>0</th>\n",
       "      <td>923</td>\n",
       "      <td>51</td>\n",
       "    </tr>\n",
       "    <tr>\n",
       "      <th>1</th>\n",
       "      <td>53</td>\n",
       "      <td>956</td>\n",
       "    </tr>\n",
       "  </tbody>\n",
       "</table>\n",
       "</div>"
      ],
      "text/plain": [
       "Predicted    0    1\n",
       "True               \n",
       "0          923   51\n",
       "1           53  956"
      ]
     },
     "execution_count": 42,
     "metadata": {},
     "output_type": "execute_result"
    }
   ],
   "source": [
    "thre = 0.5\n",
    "calc_confusion_matrix_for_threshold(y_te, np.array(prob_pred_te[:,1]), thre)"
   ]
  },
  {
   "cell_type": "markdown",
   "metadata": {},
   "source": [
    "## 1.4. Analyze model mistakes"
   ]
  },
  {
   "cell_type": "code",
   "execution_count": 43,
   "metadata": {},
   "outputs": [],
   "source": [
    "# compare = [(int(y_te[i]), 1*(prob_pred_te[i, 1] > thre), i) for i in range(len(y_te))]"
   ]
  },
  {
   "cell_type": "code",
   "execution_count": 44,
   "metadata": {},
   "outputs": [],
   "source": [
    "# fpset = [item[2] for item in compare if ((item[0] == 0) & (item[1] == 1))]\n",
    "# fnset = [item[2] for item in compare if ((item[0] == 1) & (item[1] == 0))]\n"
   ]
  },
  {
   "cell_type": "code",
   "execution_count": 45,
   "metadata": {},
   "outputs": [],
   "source": [
    "def plot_img(data, h, title):\n",
    "    fig, ax = plt.subplots(h, h)\n",
    "    N = int(np.sqrt(data[0].size))\n",
    "    for i in range(h*h):\n",
    "        plt.subplot(h, h, i+1)\n",
    "        plt.imshow(data[i].reshape(N, N), cmap = plt.cm.gray, vmin = 0.0, vmax = 1.0)\n",
    "    plt.suptitle(title)\n",
    "    return fig, ax"
   ]
  },
  {
   "cell_type": "code",
   "execution_count": 46,
   "metadata": {},
   "outputs": [],
   "source": [
    "fpset = []\n",
    "for i in range(len(x_te)):\n",
    "    if (prob_pred_te[i][1] >= thre and y_te[i] == 0 and len(fpset) < 9):\n",
    "        fpset.append(x_te[i])"
   ]
  },
  {
   "cell_type": "code",
   "execution_count": 47,
   "metadata": {},
   "outputs": [
    {
     "data": {
      "image/png": "[encoded data removed]",
      "text/plain": [
       "<Figure size 432x288 with 9 Axes>"
      ]
     },
     "metadata": {
      "needs_background": "light"
     },
     "output_type": "display_data"
    }
   ],
   "source": [
    "fig, ax = plot_img(fpset, 3, 'FP Samples')"
   ]
  },
  {
   "cell_type": "code",
   "execution_count": 48,
   "metadata": {},
   "outputs": [],
   "source": [
    "fnset = []\n",
    "for i in range(len(x_te)):\n",
    "    if (prob_pred_te[i][1] <= thre and y_te[i] == 1 and len(fnset) < 9):\n",
    "        fnset.append(x_te[i])"
   ]
  },
  {
   "cell_type": "code",
   "execution_count": 49,
   "metadata": {},
   "outputs": [
    {
     "data": {
      "image/png": "[encoded data removed]",
      "text/plain": [
       "<Figure size 432x288 with 9 Axes>"
      ]
     },
     "metadata": {
      "needs_background": "light"
     },
     "output_type": "display_data"
    }
   ],
   "source": [
    "fig, ax = plot_img(fnset, 3, 'FN Samples')\n"
   ]
  },
  {
   "cell_type": "markdown",
   "metadata": {},
   "source": [
    "All examples above are even hard to recognize for human eyes; therefore, it's understandable for the classifier to make mistakes. For the false positives, some examples have a bigger upper curve in the number 8. For the false negatives, some images have bigger lower curve in the number 9. "
   ]
  },
  {
   "cell_type": "markdown",
   "metadata": {},
   "source": [
    "## 1.5. Analyze the final weights"
   ]
  },
  {
   "cell_type": "code",
   "execution_count": 50,
   "metadata": {},
   "outputs": [],
   "source": [
    "# Fit the model with the best C value\n",
    "lrm_best = sklearn.linear_model.LogisticRegression(C = best_C_2, solver = 'liblinear', multi_class = 'ovr').fit(x_tr, y_tr)"
   ]
  },
  {
   "cell_type": "code",
   "execution_count": 20,
   "metadata": {},
   "outputs": [
    {
     "data": {
      "image/png": "[encoded data removed]",
      "text/plain": [
       "<Figure size 432x288 with 1 Axes>"
      ]
     },
     "metadata": {
      "needs_background": "light"
     },
     "output_type": "display_data"
    }
   ],
   "source": [
    "weight = lrm_best.coef_.reshape(28, 28)\n",
    "plt.imshow(weight,cmap='RdYlBu', vmin = -0.5, vmax = 0.5)\n",
    "plt.show()"
   ]
  },
  {
   "cell_type": "markdown",
   "metadata": {},
   "source": [
    "The red pixel corresponds to an 8, and the blue pixel corresponds to a 9. This is because normally an 8 has more white pixels than a 9. Here, we can see that the number of red pixels dominate the number of blue pixels. "
   ]
  }
 ],
 "metadata": {
  "kernelspec": {
   "display_name": "Python 3",
   "language": "python",
   "name": "python3"
  },
  "language_info": {
   "codemirror_mode": {
    "name": "ipython",
    "version": 3
   },
   "file_extension": ".py",
   "mimetype": "text/x-python",
   "name": "python",
   "nbconvert_exporter": "python",
   "pygments_lexer": "ipython3",
   "version": "3.7.3"
  }
 },
 "nbformat": 4,
 "nbformat_minor": 2
}
